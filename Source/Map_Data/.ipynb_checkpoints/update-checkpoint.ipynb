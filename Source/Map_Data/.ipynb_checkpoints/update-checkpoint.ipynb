{
 "cells": [
  {
   "cell_type": "code",
   "execution_count": 1,
   "metadata": {},
   "outputs": [
    {
     "name": "stdout",
     "output_type": "stream",
     "text": [
      "Requesting Access to https://iedcr.gov.bd/ ... ...\n",
      "Updating... ... Please wait...\n",
      "updated!\n"
     ]
    }
   ],
   "source": [
    "#reading pdf from online\n",
    "import urllib.request,urllib.parse,urllib.error\n",
    "from bs4 import BeautifulSoup\n",
    "\n",
    "website = \"https://iedcr.gov.bd/\"\n",
    "print('Requesting Access to',website,'... ...')\n",
    "webPage = urllib.request.urlopen(website).read()\n",
    "soupObject = BeautifulSoup(webPage,'html.parser')\n",
    "anchorTags = soupObject('a')\n",
    "url = anchorTags[0].get('href',None)\n",
    "link2 = website+url\n",
    "print('Updating... ... Please wait...')\n",
    "\n",
    "file = open('data_update.pdf','wb')\n",
    "handle = urllib.request.urlopen(link2).read()\n",
    "file.write(handle)\n",
    "file.close()\n",
    "print('updated!')"
   ]
  }
 ],
 "metadata": {
  "kernelspec": {
   "display_name": "Python 3",
   "language": "python",
   "name": "python3"
  },
  "language_info": {
   "codemirror_mode": {
    "name": "ipython",
    "version": 3
   },
   "file_extension": ".py",
   "mimetype": "text/x-python",
   "name": "python",
   "nbconvert_exporter": "python",
   "pygments_lexer": "ipython3",
   "version": "3.7.7"
  }
 },
 "nbformat": 4,
 "nbformat_minor": 4
}
